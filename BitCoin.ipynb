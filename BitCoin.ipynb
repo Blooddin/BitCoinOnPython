{
 "cells": [
  {
   "cell_type": "markdown",
   "metadata": {},
   "source": [
    "#### Генерация и определение эллиптической кривой\n"
   ]
  },
  {
   "cell_type": "code",
   "execution_count": 2,
   "metadata": {},
   "outputs": [],
   "source": [
    "#from __future__ import annotations # PEP 563: Postponed Evaluation of Annotations\n",
    "from dataclasses import dataclass # https://docs.python.org/3/library/dataclasses.html I like these a lot\n",
    "\n",
    "@dataclass\n",
    "class Curve:\n",
    "    \"\"\"\n",
    "    Для для эллиптической кривой над конечным полем целых чисел.\n",
    "    \"\"\"\n",
    "    p: int # модуль кривой\n",
    "    a: int\n",
    "    b: int\n",
    "\n",
    "# В secp256k1 a = 0, b = 7, то есть уравнение кривой y^2 = x^3 + 7 (mod p)\n",
    "bitcoin_curve = Curve(\n",
    "    p = 0xFFFFFFFFFFFFFFFFFFFFFFFFFFFFFFFFFFFFFFFFFFFFFFFFFFFFFFFEFFFFFC2F, # 2^256-2^32-2^9-2^8-2^7-2^6-2^4-1\n",
    "    a = 0x0000000000000000000000000000000000000000000000000000000000000000, # a = 0\n",
    "    b = 0x0000000000000000000000000000000000000000000000000000000000000007, # b = 7\n",
    ")"
   ]
  },
  {
   "cell_type": "markdown",
   "metadata": {},
   "source": [
    "Класс точка на кривой"
   ]
  },
  {
   "cell_type": "code",
   "execution_count": 3,
   "metadata": {},
   "outputs": [
    {
     "name": "stdout",
     "output_type": "stream",
     "text": [
      "Точка G лежит на кривой?:  True\n",
      "Случайная точка лежит на кривой?:  False\n"
     ]
    }
   ],
   "source": [
    "@dataclass\n",
    "class Point:\n",
    "    \"\"\" Точка (x,y) на плоскости на эллиптической кривой \"\"\"\n",
    "    curve: Curve\n",
    "    x: int\n",
    "    y: int\n",
    "\n",
    "G = Point(\n",
    "    bitcoin_curve,\n",
    "    x = 0x79BE667EF9DCBBAC55A06295CE870B07029BFCDB2DCE28D959F2815B16F81798,\n",
    "    y = 0x483ada7726a3c4655da4fbfc0e1108a8fd17b448a68554199c47d08ffb10d4b8,\n",
    ")\n",
    "\n",
    "# Проверим что наша точка G лежит на кривой secp256k1\n",
    "print(\"Точка G лежит на кривой?: \", (G.y**2 - G.x**3 - 7) % bitcoin_curve.p == 0)\n",
    "\n",
    "# Другие случайно сгенерированные кривые скорее всего не будут лежать на кривой\n",
    "import random\n",
    "random.seed(1337)\n",
    "x = random.randrange(0, bitcoin_curve.p)\n",
    "y = random.randrange(0, bitcoin_curve.p)\n",
    "print(\"Случайная точка лежит на кривой?: \", (y**2 - x**3 - 7) % bitcoin_curve.p == 0)"
   ]
  },
  {
   "cell_type": "markdown",
   "metadata": {},
   "source": [
    "Класс для важных полей на эллиптической кривой"
   ]
  },
  {
   "cell_type": "code",
   "execution_count": 4,
   "metadata": {},
   "outputs": [],
   "source": [
    "@dataclass\n",
    "class Generator:\n",
    "    \"\"\"\n",
    "    A generator over a curve: an initial point and the (pre-computed) order\n",
    "    \"\"\"\n",
    "    G: Point     # начальная точка на кривой\n",
    "    n: int       # 0*G = n*G = INF\n",
    "\n",
    "bitcoin_gen = Generator(\n",
    "    G = G,\n",
    "    # порядок кривой secp256k1\n",
    "    n = 0xFFFFFFFFFFFFFFFFFFFFFFFFFFFFFFFEBAAEDCE6AF48A03BBFD25E8CD0364141,\n",
    ")"
   ]
  },
  {
   "cell_type": "markdown",
   "metadata": {},
   "source": [
    "Секретный ключ - число в диапазоне от 1 до порядка кривой"
   ]
  },
  {
   "cell_type": "code",
   "execution_count": 5,
   "metadata": {},
   "outputs": [
    {
     "name": "stdout",
     "output_type": "stream",
     "text": [
      "88179880527772193127991559081690516360423762505570950046565861475646252139708\n"
     ]
    }
   ],
   "source": [
    "secret_key = random.randrange(1, bitcoin_gen.n) # генерируем случайный ключ, то есть просто число от 1 до n\n",
    "assert 1 <= secret_key < bitcoin_gen.n\n",
    "print(secret_key)"
   ]
  },
  {
   "cell_type": "markdown",
   "metadata": {},
   "source": [
    "Определение сложения на эллиптической кривой"
   ]
  },
  {
   "cell_type": "code",
   "execution_count": 6,
   "metadata": {},
   "outputs": [],
   "source": [
    "INF = Point(None, None, None) # точка на бесконечности\n",
    "\n",
    "def extended_euclidean_algorithm(a, b):\n",
    "    \"\"\"\n",
    "    Расширенный алгоритм евклида (см. 3 лаба по МОЗИ)\n",
    "    \"\"\"\n",
    "    old_r, r = a, b\n",
    "    old_s, s = 1, 0\n",
    "    old_t, t = 0, 1\n",
    "    while r != 0:\n",
    "        quotient = old_r // r\n",
    "        old_r, r = r, old_r - quotient * r\n",
    "        old_s, s = s, old_s - quotient * s\n",
    "        old_t, t = t, old_t - quotient * t\n",
    "    return old_r, old_s, old_t\n",
    "\n",
    "def inv(n, p):\n",
    "    \"\"\" возвращает обратное число по модулю p: (n * m) % p == 1 \"\"\"\n",
    "    gcd, x, y = extended_euclidean_algorithm(n, p)\n",
    "    return x % p\n",
    "\n",
    "def elliptic_curve_addition(self, other: Point) -> Point:\n",
    "    '''Операция сложения 2 точек на эллиптической кривой(см. https://habr.com/ru/post/335906/)'''\n",
    "    if self == INF:\n",
    "        return other\n",
    "    if other == INF:\n",
    "        return self\n",
    "\n",
    "    if self.x == other.x and self.y != other.y:\n",
    "        return INF\n",
    "    \n",
    "    if self.x == other.x:\n",
    "        m = (3 * self.x**2 + self.curve.a) * inv(2 * self.y, self.curve.p)\n",
    "    else:\n",
    "        m = (self.y - other.y) * inv(self.x - other.x, self.curve.p)\n",
    "\n",
    "    rx = (m**2 - self.x - other.x) % self.curve.p\n",
    "    ry = (-(m*(rx - self.x) + self.y)) % self.curve.p\n",
    "    return Point(self.curve, rx, ry)\n",
    "\n",
    "Point.__add__ = elliptic_curve_addition # добавляем как операцию сложения, т.е. чтобы можно было просто писать +"
   ]
  },
  {
   "cell_type": "markdown",
   "metadata": {},
   "source": [
    "Проверим сложение на простых примерах"
   ]
  },
  {
   "cell_type": "code",
   "execution_count": 7,
   "metadata": {},
   "outputs": [
    {
     "name": "stdout",
     "output_type": "stream",
     "text": [
      " secret key: 1\n",
      " public key: (55066263022277343669578718895168534326250603453777594175500187360389116729240, 32670510020758816978083085130507043184471273380659243275938904335757337482424)\n",
      "Public key находится на нашей кривой?:  True\n",
      " secret key: 2\n",
      " public key: (89565891926547004231252920425935692360644145829622209833684329913297188986597, 12158399299693830322967808612713398636155367887041628176798871954788371653930)\n",
      "Public key находится на нашей кривой?:  True\n",
      " secret key: 3\n",
      " public key: (112711660439710606056748659173929673102114977341539408544630613555209775888121, 25583027980570883691656905877401976406448868254816295069919888960541586679410)\n",
      "Public key находится на нашей кривой?:  True\n"
     ]
    }
   ],
   "source": [
    "# Проверим генерацию, sk - secret key, генерируем по нему public key\n",
    "sk = 1\n",
    "pk = G\n",
    "print(f\" secret key: {sk}\\n public key: {(pk.x, pk.y)}\")\n",
    "print(\"Public key находится на нашей кривой?: \", (pk.y**2 - pk.x**3 - 7) % bitcoin_curve.p == 0)\n",
    "# if it was 2, the public key is G + G:\n",
    "sk = 2\n",
    "pk = G + G\n",
    "print(f\" secret key: {sk}\\n public key: {(pk.x, pk.y)}\")\n",
    "print(\"Public key находится на нашей кривой?: \", (pk.y**2 - pk.x**3 - 7) % bitcoin_curve.p == 0)\n",
    "# etc.:\n",
    "sk = 3\n",
    "pk = G + G + G\n",
    "print(f\" secret key: {sk}\\n public key: {(pk.x, pk.y)}\")\n",
    "print(\"Public key находится на нашей кривой?: \", (pk.y**2 - pk.x**3 - 7) % bitcoin_curve.p == 0)"
   ]
  },
  {
   "cell_type": "markdown",
   "metadata": {},
   "source": [
    "Для повышения производительности необходимо оптимизировать алгоритм. Применим алгоритм удвоения-сложения. (см. https://habr.com/ru/post/335906/)"
   ]
  },
  {
   "cell_type": "code",
   "execution_count": 8,
   "metadata": {},
   "outputs": [
    {
     "name": "stdout",
     "output_type": "stream",
     "text": [
      "True\n",
      "True\n",
      "True\n"
     ]
    }
   ],
   "source": [
    "def double_and_add(self, k: int) -> Point:\n",
    "    assert isinstance(k, int) and k >= 0\n",
    "    result = INF\n",
    "    append = self\n",
    "    while k:\n",
    "        if k & 1:\n",
    "            result += append\n",
    "        append += append\n",
    "        k >>= 1\n",
    "    return result\n",
    "\n",
    "# добавляем как операцию умножения, т.е. чтобы можно было просто писать *\n",
    "Point.__rmul__ = double_and_add\n",
    "\n",
    "# проверим работоспособность\n",
    "print(G == 1*G)\n",
    "print(G + G == 2*G)\n",
    "print(G + G + G == 3*G)"
   ]
  },
  {
   "cell_type": "code",
   "execution_count": 9,
   "metadata": {},
   "outputs": [
    {
     "name": "stdout",
     "output_type": "stream",
     "text": [
      "secret key:  88179880527772193127991559081690516360423762505570950046565861475646252139708\n",
      "x: 2622435002776900012262913488300923425767213619137753162304988221125546485749\n",
      "y: 42304050271267786694567464365427621221032123541303484276857170357560364141179\n",
      "Public key находится на нашей кривой?:  True\n"
     ]
    }
   ],
   "source": [
    "secret_key\n",
    "public_key = secret_key * G\n",
    "print(\"secret key: \",secret_key)\n",
    "print(f\"x: {public_key.x}\\ny: {public_key.y}\")\n",
    "print(\"Public key находится на нашей кривой?: \", (public_key.y**2 - public_key.x**3 - 7) % bitcoin_curve.p == 0)"
   ]
  },
  {
   "cell_type": "markdown",
   "metadata": {},
   "source": [
    "Для шифрования sha256 будем использовать внешнюю библиотеку"
   ]
  },
  {
   "cell_type": "code",
   "execution_count": 10,
   "metadata": {
    "scrolled": true
   },
   "outputs": [
    {
     "name": "stdout",
     "output_type": "stream",
     "text": [
      "69b9779edaa573a509999cbae415d3408c30544bad09727a1d64eff353c95b89\n"
     ]
    },
    {
     "data": {
      "text/plain": [
       "32"
      ]
     },
     "execution_count": 10,
     "metadata": {},
     "output_type": "execute_result"
    }
   ],
   "source": [
    "from hashlib import sha256\n",
    "print(sha256(b'here is a random bytes message, cool right?').hexdigest())\n",
    "len(sha256(b'').digest())"
   ]
  },
  {
   "cell_type": "markdown",
   "metadata": {},
   "source": [
    "Создадим потом нам нужную функцию ripemd160"
   ]
  },
  {
   "cell_type": "code",
   "execution_count": 11,
   "metadata": {},
   "outputs": [
    {
     "name": "stdout",
     "output_type": "stream",
     "text": [
      "f51960af7dd4813a587ab26388ddab3b28d1f7b4\n",
      "number of bytes in a RIPEMD-160 digest:  20\n"
     ]
    }
   ],
   "source": [
    "def gen_ripemd160_with_variable_scope_protector_to_not_pollute_global_namespace():\n",
    "\n",
    "    import sys\n",
    "    import struct\n",
    "\n",
    "    # -----------------------------------------------------------------------------\n",
    "    # public interface\n",
    "\n",
    "    def ripemd160(b: bytes) -> bytes:\n",
    "        \"\"\" simple wrapper for a simpler API to this hash function, just bytes to bytes \"\"\"\n",
    "        ctx = RMDContext()\n",
    "        RMD160Update(ctx, b, len(b))\n",
    "        digest = RMD160Final(ctx)\n",
    "        return digest\n",
    "\n",
    "    # -----------------------------------------------------------------------------\n",
    "\n",
    "    class RMDContext:\n",
    "        def __init__(self):\n",
    "            self.state = [0x67452301, 0xEFCDAB89, 0x98BADCFE, 0x10325476, 0xC3D2E1F0] # uint32\n",
    "            self.count = 0 # uint64\n",
    "            self.buffer = [0]*64 # uchar\n",
    "\n",
    "    def RMD160Update(ctx, inp, inplen):\n",
    "        have = int((ctx.count // 8) % 64)\n",
    "        inplen = int(inplen)\n",
    "        need = 64 - have\n",
    "        ctx.count += 8 * inplen\n",
    "        off = 0\n",
    "        if inplen >= need:\n",
    "            if have:\n",
    "                for i in range(need):\n",
    "                    ctx.buffer[have+i] = inp[i]\n",
    "                RMD160Transform(ctx.state, ctx.buffer)\n",
    "                off = need\n",
    "                have = 0\n",
    "            while off + 64 <= inplen:\n",
    "                RMD160Transform(ctx.state, inp[off:])\n",
    "                off += 64\n",
    "        if off < inplen:\n",
    "            for i in range(inplen - off):\n",
    "                ctx.buffer[have+i] = inp[off+i]\n",
    "\n",
    "    def RMD160Final(ctx):\n",
    "        size = struct.pack(\"<Q\", ctx.count)\n",
    "        padlen = 64 - ((ctx.count // 8) % 64)\n",
    "        if padlen < 1 + 8:\n",
    "            padlen += 64\n",
    "        RMD160Update(ctx, PADDING, padlen-8)\n",
    "        RMD160Update(ctx, size, 8)\n",
    "        return struct.pack(\"<5L\", *ctx.state)\n",
    "\n",
    "    # -----------------------------------------------------------------------------\n",
    "\n",
    "    K0 = 0x00000000\n",
    "    K1 = 0x5A827999\n",
    "    K2 = 0x6ED9EBA1\n",
    "    K3 = 0x8F1BBCDC\n",
    "    K4 = 0xA953FD4E\n",
    "    KK0 = 0x50A28BE6\n",
    "    KK1 = 0x5C4DD124\n",
    "    KK2 = 0x6D703EF3\n",
    "    KK3 = 0x7A6D76E9\n",
    "    KK4 = 0x00000000\n",
    "\n",
    "    PADDING = [0x80] + [0]*63\n",
    "\n",
    "    def ROL(n, x):\n",
    "        return ((x << n) & 0xffffffff) | (x >> (32 - n))\n",
    "\n",
    "    def F0(x, y, z):\n",
    "        return x ^ y ^ z\n",
    "\n",
    "    def F1(x, y, z):\n",
    "        return (x & y) | (((~x) % 0x100000000) & z)\n",
    "\n",
    "    def F2(x, y, z):\n",
    "        return (x | ((~y) % 0x100000000)) ^ z\n",
    "\n",
    "    def F3(x, y, z):\n",
    "        return (x & z) | (((~z) % 0x100000000) & y)\n",
    "\n",
    "    def F4(x, y, z):\n",
    "        return x ^ (y | ((~z) % 0x100000000))\n",
    "\n",
    "    def R(a, b, c, d, e, Fj, Kj, sj, rj, X):\n",
    "        a = ROL(sj, (a + Fj(b, c, d) + X[rj] + Kj) % 0x100000000) + e\n",
    "        c = ROL(10, c)\n",
    "        return a % 0x100000000, c\n",
    "\n",
    "    def RMD160Transform(state, block): #uint32 state[5], uchar block[64]\n",
    "\n",
    "        x = [0]*16\n",
    "        assert sys.byteorder == 'little', \"Only little endian is supported atm for RIPEMD160\"\n",
    "        x = struct.unpack('<16L', bytes(block[0:64]))\n",
    "\n",
    "        a = state[0]\n",
    "        b = state[1]\n",
    "        c = state[2]\n",
    "        d = state[3]\n",
    "        e = state[4]\n",
    "\n",
    "        #/* Round 1 */\n",
    "        a, c = R(a, b, c, d, e, F0, K0, 11,  0, x)\n",
    "        e, b = R(e, a, b, c, d, F0, K0, 14,  1, x)\n",
    "        d, a = R(d, e, a, b, c, F0, K0, 15,  2, x)\n",
    "        c, e = R(c, d, e, a, b, F0, K0, 12,  3, x)\n",
    "        b, d = R(b, c, d, e, a, F0, K0,  5,  4, x)\n",
    "        a, c = R(a, b, c, d, e, F0, K0,  8,  5, x)\n",
    "        e, b = R(e, a, b, c, d, F0, K0,  7,  6, x)\n",
    "        d, a = R(d, e, a, b, c, F0, K0,  9,  7, x)\n",
    "        c, e = R(c, d, e, a, b, F0, K0, 11,  8, x)\n",
    "        b, d = R(b, c, d, e, a, F0, K0, 13,  9, x)\n",
    "        a, c = R(a, b, c, d, e, F0, K0, 14, 10, x)\n",
    "        e, b = R(e, a, b, c, d, F0, K0, 15, 11, x)\n",
    "        d, a = R(d, e, a, b, c, F0, K0,  6, 12, x)\n",
    "        c, e = R(c, d, e, a, b, F0, K0,  7, 13, x)\n",
    "        b, d = R(b, c, d, e, a, F0, K0,  9, 14, x)\n",
    "        a, c = R(a, b, c, d, e, F0, K0,  8, 15, x) #/* #15 */\n",
    "        #/* Round 2 */\n",
    "        e, b = R(e, a, b, c, d, F1, K1,  7,  7, x)\n",
    "        d, a = R(d, e, a, b, c, F1, K1,  6,  4, x)\n",
    "        c, e = R(c, d, e, a, b, F1, K1,  8, 13, x)\n",
    "        b, d = R(b, c, d, e, a, F1, K1, 13,  1, x)\n",
    "        a, c = R(a, b, c, d, e, F1, K1, 11, 10, x)\n",
    "        e, b = R(e, a, b, c, d, F1, K1,  9,  6, x)\n",
    "        d, a = R(d, e, a, b, c, F1, K1,  7, 15, x)\n",
    "        c, e = R(c, d, e, a, b, F1, K1, 15,  3, x)\n",
    "        b, d = R(b, c, d, e, a, F1, K1,  7, 12, x)\n",
    "        a, c = R(a, b, c, d, e, F1, K1, 12,  0, x)\n",
    "        e, b = R(e, a, b, c, d, F1, K1, 15,  9, x)\n",
    "        d, a = R(d, e, a, b, c, F1, K1,  9,  5, x)\n",
    "        c, e = R(c, d, e, a, b, F1, K1, 11,  2, x)\n",
    "        b, d = R(b, c, d, e, a, F1, K1,  7, 14, x)\n",
    "        a, c = R(a, b, c, d, e, F1, K1, 13, 11, x)\n",
    "        e, b = R(e, a, b, c, d, F1, K1, 12,  8, x) #/* #31 */\n",
    "        #/* Round 3 */\n",
    "        d, a = R(d, e, a, b, c, F2, K2, 11,  3, x)\n",
    "        c, e = R(c, d, e, a, b, F2, K2, 13, 10, x)\n",
    "        b, d = R(b, c, d, e, a, F2, K2,  6, 14, x)\n",
    "        a, c = R(a, b, c, d, e, F2, K2,  7,  4, x)\n",
    "        e, b = R(e, a, b, c, d, F2, K2, 14,  9, x)\n",
    "        d, a = R(d, e, a, b, c, F2, K2,  9, 15, x)\n",
    "        c, e = R(c, d, e, a, b, F2, K2, 13,  8, x)\n",
    "        b, d = R(b, c, d, e, a, F2, K2, 15,  1, x)\n",
    "        a, c = R(a, b, c, d, e, F2, K2, 14,  2, x)\n",
    "        e, b = R(e, a, b, c, d, F2, K2,  8,  7, x)\n",
    "        d, a = R(d, e, a, b, c, F2, K2, 13,  0, x)\n",
    "        c, e = R(c, d, e, a, b, F2, K2,  6,  6, x)\n",
    "        b, d = R(b, c, d, e, a, F2, K2,  5, 13, x)\n",
    "        a, c = R(a, b, c, d, e, F2, K2, 12, 11, x)\n",
    "        e, b = R(e, a, b, c, d, F2, K2,  7,  5, x)\n",
    "        d, a = R(d, e, a, b, c, F2, K2,  5, 12, x) #/* #47 */\n",
    "        #/* Round 4 */\n",
    "        c, e = R(c, d, e, a, b, F3, K3, 11,  1, x)\n",
    "        b, d = R(b, c, d, e, a, F3, K3, 12,  9, x)\n",
    "        a, c = R(a, b, c, d, e, F3, K3, 14, 11, x)\n",
    "        e, b = R(e, a, b, c, d, F3, K3, 15, 10, x)\n",
    "        d, a = R(d, e, a, b, c, F3, K3, 14,  0, x)\n",
    "        c, e = R(c, d, e, a, b, F3, K3, 15,  8, x)\n",
    "        b, d = R(b, c, d, e, a, F3, K3,  9, 12, x)\n",
    "        a, c = R(a, b, c, d, e, F3, K3,  8,  4, x)\n",
    "        e, b = R(e, a, b, c, d, F3, K3,  9, 13, x)\n",
    "        d, a = R(d, e, a, b, c, F3, K3, 14,  3, x)\n",
    "        c, e = R(c, d, e, a, b, F3, K3,  5,  7, x)\n",
    "        b, d = R(b, c, d, e, a, F3, K3,  6, 15, x)\n",
    "        a, c = R(a, b, c, d, e, F3, K3,  8, 14, x)\n",
    "        e, b = R(e, a, b, c, d, F3, K3,  6,  5, x)\n",
    "        d, a = R(d, e, a, b, c, F3, K3,  5,  6, x)\n",
    "        c, e = R(c, d, e, a, b, F3, K3, 12,  2, x) #/* #63 */\n",
    "        #/* Round 5 */\n",
    "        b, d = R(b, c, d, e, a, F4, K4,  9,  4, x)\n",
    "        a, c = R(a, b, c, d, e, F4, K4, 15,  0, x)\n",
    "        e, b = R(e, a, b, c, d, F4, K4,  5,  5, x)\n",
    "        d, a = R(d, e, a, b, c, F4, K4, 11,  9, x)\n",
    "        c, e = R(c, d, e, a, b, F4, K4,  6,  7, x)\n",
    "        b, d = R(b, c, d, e, a, F4, K4,  8, 12, x)\n",
    "        a, c = R(a, b, c, d, e, F4, K4, 13,  2, x)\n",
    "        e, b = R(e, a, b, c, d, F4, K4, 12, 10, x)\n",
    "        d, a = R(d, e, a, b, c, F4, K4,  5, 14, x)\n",
    "        c, e = R(c, d, e, a, b, F4, K4, 12,  1, x)\n",
    "        b, d = R(b, c, d, e, a, F4, K4, 13,  3, x)\n",
    "        a, c = R(a, b, c, d, e, F4, K4, 14,  8, x)\n",
    "        e, b = R(e, a, b, c, d, F4, K4, 11, 11, x)\n",
    "        d, a = R(d, e, a, b, c, F4, K4,  8,  6, x)\n",
    "        c, e = R(c, d, e, a, b, F4, K4,  5, 15, x)\n",
    "        b, d = R(b, c, d, e, a, F4, K4,  6, 13, x) #/* #79 */\n",
    "\n",
    "        aa = a\n",
    "        bb = b\n",
    "        cc = c\n",
    "        dd = d\n",
    "        ee = e\n",
    "\n",
    "        a = state[0]\n",
    "        b = state[1]\n",
    "        c = state[2]\n",
    "        d = state[3]\n",
    "        e = state[4]\n",
    "\n",
    "        #/* Parallel round 1 */\n",
    "        a, c = R(a, b, c, d, e, F4, KK0,  8,  5, x)\n",
    "        e, b = R(e, a, b, c, d, F4, KK0,  9, 14, x)\n",
    "        d, a = R(d, e, a, b, c, F4, KK0,  9,  7, x)\n",
    "        c, e = R(c, d, e, a, b, F4, KK0, 11,  0, x)\n",
    "        b, d = R(b, c, d, e, a, F4, KK0, 13,  9, x)\n",
    "        a, c = R(a, b, c, d, e, F4, KK0, 15,  2, x)\n",
    "        e, b = R(e, a, b, c, d, F4, KK0, 15, 11, x)\n",
    "        d, a = R(d, e, a, b, c, F4, KK0,  5,  4, x)\n",
    "        c, e = R(c, d, e, a, b, F4, KK0,  7, 13, x)\n",
    "        b, d = R(b, c, d, e, a, F4, KK0,  7,  6, x)\n",
    "        a, c = R(a, b, c, d, e, F4, KK0,  8, 15, x)\n",
    "        e, b = R(e, a, b, c, d, F4, KK0, 11,  8, x)\n",
    "        d, a = R(d, e, a, b, c, F4, KK0, 14,  1, x)\n",
    "        c, e = R(c, d, e, a, b, F4, KK0, 14, 10, x)\n",
    "        b, d = R(b, c, d, e, a, F4, KK0, 12,  3, x)\n",
    "        a, c = R(a, b, c, d, e, F4, KK0,  6, 12, x) #/* #15 */\n",
    "        #/* Parallel round 2 */\n",
    "        e, b = R(e, a, b, c, d, F3, KK1,  9,  6, x)\n",
    "        d, a = R(d, e, a, b, c, F3, KK1, 13, 11, x)\n",
    "        c, e = R(c, d, e, a, b, F3, KK1, 15,  3, x)\n",
    "        b, d = R(b, c, d, e, a, F3, KK1,  7,  7, x)\n",
    "        a, c = R(a, b, c, d, e, F3, KK1, 12,  0, x)\n",
    "        e, b = R(e, a, b, c, d, F3, KK1,  8, 13, x)\n",
    "        d, a = R(d, e, a, b, c, F3, KK1,  9,  5, x)\n",
    "        c, e = R(c, d, e, a, b, F3, KK1, 11, 10, x)\n",
    "        b, d = R(b, c, d, e, a, F3, KK1,  7, 14, x)\n",
    "        a, c = R(a, b, c, d, e, F3, KK1,  7, 15, x)\n",
    "        e, b = R(e, a, b, c, d, F3, KK1, 12,  8, x)\n",
    "        d, a = R(d, e, a, b, c, F3, KK1,  7, 12, x)\n",
    "        c, e = R(c, d, e, a, b, F3, KK1,  6,  4, x)\n",
    "        b, d = R(b, c, d, e, a, F3, KK1, 15,  9, x)\n",
    "        a, c = R(a, b, c, d, e, F3, KK1, 13,  1, x)\n",
    "        e, b = R(e, a, b, c, d, F3, KK1, 11,  2, x) #/* #31 */\n",
    "        #/* Parallel round 3 */\n",
    "        d, a = R(d, e, a, b, c, F2, KK2,  9, 15, x)\n",
    "        c, e = R(c, d, e, a, b, F2, KK2,  7,  5, x)\n",
    "        b, d = R(b, c, d, e, a, F2, KK2, 15,  1, x)\n",
    "        a, c = R(a, b, c, d, e, F2, KK2, 11,  3, x)\n",
    "        e, b = R(e, a, b, c, d, F2, KK2,  8,  7, x)\n",
    "        d, a = R(d, e, a, b, c, F2, KK2,  6, 14, x)\n",
    "        c, e = R(c, d, e, a, b, F2, KK2,  6,  6, x)\n",
    "        b, d = R(b, c, d, e, a, F2, KK2, 14,  9, x)\n",
    "        a, c = R(a, b, c, d, e, F2, KK2, 12, 11, x)\n",
    "        e, b = R(e, a, b, c, d, F2, KK2, 13,  8, x)\n",
    "        d, a = R(d, e, a, b, c, F2, KK2,  5, 12, x)\n",
    "        c, e = R(c, d, e, a, b, F2, KK2, 14,  2, x)\n",
    "        b, d = R(b, c, d, e, a, F2, KK2, 13, 10, x)\n",
    "        a, c = R(a, b, c, d, e, F2, KK2, 13,  0, x)\n",
    "        e, b = R(e, a, b, c, d, F2, KK2,  7,  4, x)\n",
    "        d, a = R(d, e, a, b, c, F2, KK2,  5, 13, x) #/* #47 */\n",
    "        #/* Parallel round 4 */\n",
    "        c, e = R(c, d, e, a, b, F1, KK3, 15,  8, x)\n",
    "        b, d = R(b, c, d, e, a, F1, KK3,  5,  6, x)\n",
    "        a, c = R(a, b, c, d, e, F1, KK3,  8,  4, x)\n",
    "        e, b = R(e, a, b, c, d, F1, KK3, 11,  1, x)\n",
    "        d, a = R(d, e, a, b, c, F1, KK3, 14,  3, x)\n",
    "        c, e = R(c, d, e, a, b, F1, KK3, 14, 11, x)\n",
    "        b, d = R(b, c, d, e, a, F1, KK3,  6, 15, x)\n",
    "        a, c = R(a, b, c, d, e, F1, KK3, 14,  0, x)\n",
    "        e, b = R(e, a, b, c, d, F1, KK3,  6,  5, x)\n",
    "        d, a = R(d, e, a, b, c, F1, KK3,  9, 12, x)\n",
    "        c, e = R(c, d, e, a, b, F1, KK3, 12,  2, x)\n",
    "        b, d = R(b, c, d, e, a, F1, KK3,  9, 13, x)\n",
    "        a, c = R(a, b, c, d, e, F1, KK3, 12,  9, x)\n",
    "        e, b = R(e, a, b, c, d, F1, KK3,  5,  7, x)\n",
    "        d, a = R(d, e, a, b, c, F1, KK3, 15, 10, x)\n",
    "        c, e = R(c, d, e, a, b, F1, KK3,  8, 14, x) #/* #63 */\n",
    "        #/* Parallel round 5 */\n",
    "        b, d = R(b, c, d, e, a, F0, KK4,  8, 12, x)\n",
    "        a, c = R(a, b, c, d, e, F0, KK4,  5, 15, x)\n",
    "        e, b = R(e, a, b, c, d, F0, KK4, 12, 10, x)\n",
    "        d, a = R(d, e, a, b, c, F0, KK4,  9,  4, x)\n",
    "        c, e = R(c, d, e, a, b, F0, KK4, 12,  1, x)\n",
    "        b, d = R(b, c, d, e, a, F0, KK4,  5,  5, x)\n",
    "        a, c = R(a, b, c, d, e, F0, KK4, 14,  8, x)\n",
    "        e, b = R(e, a, b, c, d, F0, KK4,  6,  7, x)\n",
    "        d, a = R(d, e, a, b, c, F0, KK4,  8,  6, x)\n",
    "        c, e = R(c, d, e, a, b, F0, KK4, 13,  2, x)\n",
    "        b, d = R(b, c, d, e, a, F0, KK4,  6, 13, x)\n",
    "        a, c = R(a, b, c, d, e, F0, KK4,  5, 14, x)\n",
    "        e, b = R(e, a, b, c, d, F0, KK4, 15,  0, x)\n",
    "        d, a = R(d, e, a, b, c, F0, KK4, 13,  3, x)\n",
    "        c, e = R(c, d, e, a, b, F0, KK4, 11,  9, x)\n",
    "        b, d = R(b, c, d, e, a, F0, KK4, 11, 11, x) #/* #79 */\n",
    "\n",
    "        t = (state[1] + cc + d) % 0x100000000\n",
    "        state[1] = (state[2] + dd + e) % 0x100000000\n",
    "        state[2] = (state[3] + ee + a) % 0x100000000\n",
    "        state[3] = (state[4] + aa + b) % 0x100000000\n",
    "        state[4] = (state[0] + bb + c) % 0x100000000\n",
    "        state[0] = t % 0x100000000\n",
    "    \n",
    "    return ripemd160\n",
    "    \n",
    "ripemd160 = gen_ripemd160_with_variable_scope_protector_to_not_pollute_global_namespace()\n",
    "print(ripemd160(b'hello this is a test').hex())\n",
    "print(\"number of bytes in a RIPEMD-160 digest: \", len(ripemd160(b'')))"
   ]
  },
  {
   "cell_type": "markdown",
   "metadata": {},
   "source": [
    "В данном классе мы получаем наш биткоин адресс. "
   ]
  },
  {
   "cell_type": "code",
   "execution_count": 12,
   "metadata": {},
   "outputs": [],
   "source": [
    "class PublicKey(Point):\n",
    "    \"\"\"\n",
    "    Публичный ключ это просто точка на кривой, к которой добавлена\n",
    "    дополнительная кодирующая/декодирующая функцио(а)нальность.\n",
    "    \"\"\"\n",
    "\n",
    "    @classmethod\n",
    "    def from_point(cls, pt: Point):\n",
    "        \"\"\" превращаем точку в public key \"\"\"\n",
    "        return cls(pt.curve, pt.x, pt.y)\n",
    "\n",
    "    def encode(self, compressed, hash160=False):\n",
    "        \"\"\" Кодировка публичного ключа \"\"\"\n",
    "        if compressed:\n",
    "            # (x,y) слишком много занимает места. \n",
    "            # вместо этого кодируем только x, а чтобы различить какой y\n",
    "            # добавляем байт кодировки если y(x) четное, то 0x02; если y(x) нечетное, то 0x03\n",
    "            prefix = b'\\x02' if self.y % 2 == 0 else b'\\x03'\n",
    "            pkb = prefix + self.x.to_bytes(32, 'big')\n",
    "        else:\n",
    "            pkb = b'\\x04' + self.x.to_bytes(32, 'big') + self.y.to_bytes(32, 'big')\n",
    "        # если захотим будет наш хэш\n",
    "        return ripemd160(sha256((pkb)).digest()) if hash160 else pkb\n",
    "\n",
    "    def address(self, net: str, compressed: bool) -> str:\n",
    "        \"\"\" возвращаем биткоин адресс который ассоциируется с этом public key \"\"\"\n",
    "        # кодируем функцией выше\n",
    "        pkb_hash = self.encode(compressed=compressed, hash160=True)\n",
    "        # добавляем байт версии: Main - 0x00; Test - 0x6f\n",
    "        version = {'main': b'\\x00', 'test': b'\\x6f'}\n",
    "        ver_pkb_hash = version[net] + pkb_hash\n",
    "        # считаем контрольную сумму\n",
    "        checksum = sha256(sha256(ver_pkb_hash).digest()).digest()[:4]\n",
    "        # добавляем к адресу чтобы сформировать 25-битный биткоин адресс\n",
    "        byte_address = ver_pkb_hash + checksum\n",
    "        # кодируем результат с помощью b58 encode\n",
    "        b58check_address = b58encode(byte_address)\n",
    "        return b58check_address\n"
   ]
  },
  {
   "cell_type": "markdown",
   "metadata": {},
   "source": [
    "b58encode - кодировка Base58. Ее суть в том, чтобы максимально кратко записать последовательность байт в удобочитаемом формате и при этом сделать вероятность возможных опечаток еще меньше."
   ]
  },
  {
   "cell_type": "code",
   "execution_count": 13,
   "metadata": {},
   "outputs": [],
   "source": [
    "# алгоритм был взять от сюда: https://en.bitcoin.it/wiki/Base58Check_encoding\n",
    "\n",
    "alphabet = '123456789ABCDEFGHJKLMNPQRSTUVWXYZabcdefghijkmnopqrstuvwxyz'\n",
    "\n",
    "def b58encode(b: bytes) -> str:\n",
    "    assert len(b) == 25 \n",
    "    n = int.from_bytes(b, 'big')\n",
    "    chars = []\n",
    "    while n:\n",
    "        n, i = divmod(n, 58)\n",
    "        chars.append(alphabet[i])\n",
    "    num_leading_zeros = len(b) - len(b.lstrip(b'\\x00'))\n",
    "    res = num_leading_zeros * alphabet[0] + ''.join(reversed(chars))\n",
    "    return res\n"
   ]
  },
  {
   "cell_type": "markdown",
   "metadata": {},
   "source": [
    "Сейчас посмотрим на наш биткоин адресс:"
   ]
  },
  {
   "cell_type": "code",
   "execution_count": 14,
   "metadata": {
    "scrolled": true
   },
   "outputs": [
    {
     "name": "stdout",
     "output_type": "stream",
     "text": [
      "secret key:  88179880527772193127991559081690516360423762505570950046565861475646252139708\n",
      "x: 2622435002776900012262913488300923425767213619137753162304988221125546485749\n",
      "y: 42304050271267786694567464365427621221032123541303484276857170357560364141179\n",
      "Биткоин адресс:  mrhQf5d7CuasW4SY1qeeQK5wWpCcrajrCj\n"
     ]
    }
   ],
   "source": [
    "#напоминание о том, что такое public key\n",
    "#secret_key\n",
    "#public_key = secret_key * G\n",
    "print(\"secret key: \",secret_key)\n",
    "print(f\"x: {public_key.x}\\ny: {public_key.y}\")\n",
    "address = PublicKey.from_point(public_key).address(net='test', compressed=True)\n",
    "print(\"Биткоин адресс: \",address)"
   ]
  },
  {
   "cell_type": "markdown",
   "metadata": {},
   "source": [
    "Проверить использовался ли этот кошель можно здесь. Так как это тест, то все деньги не настоящие:\n",
    "[https://www.blockchain.com/btc-testnet/address/moANLaHtXoEbBh6j6JFUoVrzbYwhAFuGdE](https://www.blockchain.com/btc-testnet/address/moANLaHtXoEbBh6j6JFUoVrzbYwhAFuGdE).\n",
    "И конечно мы каждый раз будем получать разные результаты, поэтому воспользуемся самым простым private key."
   ]
  },
  {
   "cell_type": "code",
   "execution_count": 15,
   "metadata": {},
   "outputs": [
    {
     "data": {
      "text/plain": [
       "'mrCDrCybB6J1vRfbwM5hemdJz73FwDBC8r'"
      ]
     },
     "execution_count": 15,
     "metadata": {},
     "output_type": "execute_result"
    }
   ],
   "source": [
    "lol_secret_key = 1\n",
    "lol_public_key = lol_secret_key * G\n",
    "lol_address = PublicKey.from_point(lol_public_key).address(net='test', compressed=True)\n",
    "lol_address"
   ]
  },
  {
   "cell_type": "code",
   "execution_count": 23,
   "metadata": {},
   "outputs": [
    {
     "name": "stdout",
     "output_type": "stream",
     "text": [
      "0xa29c4db3d20833556cecc2581bfa530d5d685155e98cd7d9dd23f7b6a801cf8c\n",
      "53dc576f69a8cc263f688dd80b27d6dd84421c47\n",
      "Our first Bitcoin identity:\n",
      "1. secret key:  73550845895012693914846049734175534669350379867969770173435494349140675121036\n",
      "2. public key:  (75381168214966211376566701773070236611376060524760107291010051445604727593886, 108836286570701899840289658238037216752223007433477180898362291967973334190961)\n",
      "3. Bitcoin address:  moANLaHtXoEbBh6j6JFUoVrzbYwhAFuGdE\n"
     ]
    }
   ],
   "source": [
    "secret_key = 73550845895012693914846049734175534669350379867969770173435494349140675121036 #здесь есть деньги и их не надо\n",
    "# будет запрашивать\n",
    "public_key = secret_key * G\n",
    "address = PublicKey.from_point(public_key).address(net='test', compressed=True)\n",
    "print(hex(secret_key))\n",
    "print(PublicKey.from_point(public_key).encode(compressed=True, hash160=True).hex())\n",
    "print(\"Our first Bitcoin identity:\")\n",
    "print(\"1. secret key: \", secret_key)\n",
    "print(\"2. public key: \", (public_key.x, public_key.y))\n",
    "print(\"3. Bitcoin address: \", address)"
   ]
  },
  {
   "cell_type": "code",
   "execution_count": 17,
   "metadata": {
    "scrolled": true
   },
   "outputs": [
    {
     "name": "stdout",
     "output_type": "stream",
     "text": [
      "d37057c9abbd6ccb692b41c1633210cd3662c933\n",
      "Our second Bitcoin identity:\n",
      "1. secret key:  2064071921415314472189084935496006784787091186969848311062728790402231534394\n",
      "2. public key:  (14728729335422913652898378386999460579207077113556725147938307604202228623964, 70731673037988858481120694139580083258046390705045894940198884664555711235280)\n",
      "3. Bitcoin address:  mznwTFe8jAD5XFTb1wihXRu2DJN36y2uj2\n"
     ]
    }
   ],
   "source": [
    "secret_key2 = random.randrange(1, bitcoin_gen.n)\n",
    "assert 1 <= secret_key2 < bitcoin_gen.n # проверяем валидность\n",
    "secret_key2 = 2064071921415314472189084935496006784787091186969848311062728790402231534394 #0 баланс, сюда перекинем\n",
    "public_key2 = secret_key2 * G\n",
    "address2 = PublicKey.from_point(public_key2).address(net='test', compressed=True)\n",
    "\n",
    "print(PublicKey.from_point(public_key2).encode(compressed=True, hash160=True).hex())\n",
    "print(\"Our second Bitcoin identity:\")\n",
    "print(\"1. secret key: \", secret_key2)\n",
    "print(\"2. public key: \", (public_key2.x, public_key2.y))\n",
    "print(\"3. Bitcoin address: \", address2)"
   ]
  },
  {
   "cell_type": "markdown",
   "metadata": {},
   "source": [
    "### Попытка сделать собственный код транзакции"
   ]
  },
  {
   "cell_type": "code",
   "execution_count": 263,
   "metadata": {
    "scrolled": true
   },
   "outputs": [
    {
     "name": "stdout",
     "output_type": "stream",
     "text": [
      "Collecting ecdsa\n",
      "  Using cached ecdsa-0.17.0-py2.py3-none-any.whl (119 kB)\n",
      "Requirement already satisfied: six>=1.9.0 in c:\\users\\lollypop\\anaconda3\\lib\\site-packages (from ecdsa) (1.16.0)\n",
      "Installing collected packages: ecdsa\n",
      "Successfully installed ecdsa-0.17.0\n"
     ]
    }
   ],
   "source": [
    "!pip install ecdsa"
   ]
  },
  {
   "cell_type": "code",
   "execution_count": 18,
   "metadata": {
    "scrolled": false
   },
   "outputs": [
    {
     "name": "stdout",
     "output_type": "stream",
     "text": [
      "b\"\\x01\\x00\\x00\\x00\\x01wr\\xecS\\xb7\\xc8}[\\xd7\\xfa?LU\\xc3\\x0fCNy\\x81(\\xa0\\x97O\\xc2\\xa4*g\\x075\\xf3&,\\x00\\x00\\x00\\x00\\x8aG0D\\x02 Mk\\x80\\xa0&\\xe1\\x00'\\x92\\x9e\\xb3\\xa6\\xe4\\xfaMJ\\x0eR\\xe5\\x8f\\xbe\\xee\\x82\\x8a\\x0fS\\xbb\\x8f\\xe0\\xbf\\xfa\\x19\\x02 \\x7f=P\\xb3aq\\xee!V\\xe9\\xf5\\xda8\\xaf\\xe3\\x10\\x15\\xa1^Z\\xd6\\x934\\x8e\\xe8P\\xfa\\xbe\\xaa'\\xb1\\x08\\x01A\\x04\\xa6\\xa8:\\xaf\\xe3\\xba\\x16!\\xbf\\xd81A\\xc2\\x88\\xae\\x95,b\\xaf>\\x928\\xea;\\xda%!g\\xe7\\xd3\\x1b\\x9e\\xf0\\x9f'\\xbb\\xa9\\x06\\xfc\\xe4\\xc1g\\x98B!f\\xd9\\x83\\xf0\\xde\\x95\\xbc\\xdfmb5\\xda\\x9fGr\\x85\\x08\\x0bq\\xff\\xff\\xff\\xff\\x02P\\xc3\\x00\\x00\\x00\\x00\\x00\\x00\\x19v\\xa9\\x14\\xd3pW\\xc9\\xab\\xbdl\\xcbi+A\\xc1c2\\x10\\xcd6b\\xc93\\x88\\xac\\x8c\\xb9\\x00\\x00\\x00\\x00\\x00\\x00\\x19v\\xa9\\x14S\\xdcWoi\\xa8\\xcc&?h\\x8d\\xd8\\x0b'\\xd6\\xdd\\x84B\\x1cG\\x88\\xac\\x00\\x00\\x00\\x00\"\n"
     ]
    }
   ],
   "source": [
    "import struct, hashlib, ecdsa\n",
    "import binascii\n",
    "\n",
    "\n",
    "def makeaman(strin):\n",
    "    return (' '.join(['/x%02x' % b for b in b'strin'])).replace(\"/\",chr(92)).replace(\" \",\"\").encode()\n",
    "\n",
    "\n",
    "class raw_tx:\n",
    "    version      = struct.pack(\"<L\", 1)\n",
    "    tx_in_count  = struct.pack(\"<B\", 1)\n",
    "    tx_in        = {} #TEMP\n",
    "    tx_out_count = struct.pack(\"<B\", 2)\n",
    "    tx_out1      = {} #TEMP\n",
    "    tx_out2      = {} #TEMP\n",
    "    lock_time    = struct.pack(\"<L\", 0)\n",
    "\n",
    "def flip_byte_order(string):\n",
    "    flipped = \"\".join(reversed([string[i:i+2] for i in range(0, len(string), 2)]))\n",
    "    return flipped\n",
    "\n",
    "rtx = raw_tx()\n",
    "\n",
    "rtx.tx_in[\"txouthash\"] = binascii.unhexlify(flip_byte_order(\"2c26f33507672aa4c24f97a02881794e430fc3554c3ffad75b7dc8b753ec7277\"))\n",
    "rtx.tx_in[\"tx_out_index\"] = struct.pack(\"<L\", 0)\n",
    "rtx.tx_in[\"script\"] = binascii.unhexlify((\"76a914%s88ac\" % \"53dc576f69a8cc263f688dd80b27d6dd84421c47\"))\n",
    "rtx.tx_in[\"scrip_bytes\"] = struct.pack(\"<B\", len(rtx.tx_in[\"script\"]))\n",
    "rtx.tx_in[\"sequence\"] = binascii.unhexlify(\"ffffffff\")\n",
    "\n",
    "rtx.tx_out1[\"value\"] = struct.pack(\"<Q\", 50000)\n",
    "rtx.tx_out1[\"pk_script\"]  = binascii.unhexlify(\"76a914%s88ac\" % \"d37057c9abbd6ccb692b41c1633210cd3662c933\")\n",
    "rtx.tx_out1[\"pk_script_bytes\"] = struct.pack(\"<B\", len(rtx.tx_out1[\"pk_script\"]))\n",
    "\n",
    "rtx.tx_out2[\"value\"] = struct.pack(\"<Q\", 47500)\n",
    "rtx.tx_out2[\"pk_script\"]  = binascii.unhexlify(\"76a914%s88ac\" % \"53dc576f69a8cc263f688dd80b27d6dd84421c47\")\n",
    "rtx.tx_out2[\"pk_script_bytes\"] = struct.pack(\"<B\", len(rtx.tx_out2[\"pk_script\"]))\n",
    "\n",
    "raw_tx_string = (\n",
    "\n",
    "    rtx.version\n",
    "    + rtx.tx_in_count\n",
    "    + rtx.tx_in[\"txouthash\"]\n",
    "    + rtx.tx_in[\"tx_out_index\"]\n",
    "    + rtx.tx_in[\"scrip_bytes\"]\n",
    "    + rtx.tx_in[\"script\"]\n",
    "    + rtx.tx_in[\"sequence\"]\n",
    "    + rtx.tx_out_count\n",
    "    + rtx.tx_out1[\"value\"]\n",
    "    + rtx.tx_out1[\"pk_script_bytes\"]\n",
    "    + rtx.tx_out1[\"pk_script\"]\n",
    "    + rtx.tx_out2[\"value\"]\n",
    "    + rtx.tx_out2[\"pk_script_bytes\"]\n",
    "    + rtx.tx_out2[\"pk_script\"]\n",
    "    + rtx.lock_time\n",
    "    + struct.pack(\"<L\", 1)\n",
    ")\n",
    "\n",
    "hashed_tx_to_sign = sha256(sha256(raw_tx_string).digest()).digest()\n",
    "\n",
    "sk = ecdsa.SigningKey.from_string(binascii.unhexlify('a29c4db3d20833556cecc2581bfa530d5d685155e98cd7d9dd23f7b6a801cf8c'), curve = ecdsa.SECP256k1)\n",
    "\n",
    "vk = sk.verifying_key\n",
    "\n",
    "#print(binascii.unhexlify('a29c4db3d20833556cecc2581bfa530d5d685155e98cd7d9dd23f7b6a801cf8c'))\n",
    "#bytes.fromhex('a29c4db3d20833556cecc2581bfa530d5d685155e98cd7d9dd23f7b6a801cf8c')\n",
    "\n",
    "public_key = (binascii.unhexlify('04')+ vk.to_string())\n",
    "\n",
    "signature = sk.sign_digest(hashed_tx_to_sign, sigencode = ecdsa.util.sigencode_der_canonize)\n",
    "\n",
    "sigscript = (\n",
    "    signature\n",
    "    + binascii.unhexlify(\"01\")\n",
    "    + struct.pack(\"<B\", len(public_key))\n",
    "    + public_key\n",
    ")\n",
    "\n",
    "real_tx = (\n",
    "    rtx.version\n",
    "    + rtx.tx_in_count\n",
    "    + rtx.tx_in[\"txouthash\"]\n",
    "    + rtx.tx_in[\"tx_out_index\"]\n",
    "    + struct.pack(\"<B\", len(sigscript) + 1)\n",
    "    + struct.pack(\"<B\", len(signature) + 1)\n",
    "    + sigscript\n",
    "    + rtx.tx_in[\"sequence\"]\n",
    "    + rtx.tx_out_count\n",
    "    + rtx.tx_out1[\"value\"]\n",
    "    + rtx.tx_out1[\"pk_script_bytes\"]\n",
    "    + rtx.tx_out1[\"pk_script\"]\n",
    "    + rtx.tx_out2[\"value\"]\n",
    "    + rtx.tx_out2[\"pk_script_bytes\"]\n",
    "    + rtx.tx_out2[\"pk_script\"]\n",
    "    + rtx.lock_time\n",
    ")\n",
    "\n",
    "print(real_tx)"
   ]
  },
  {
   "cell_type": "code",
   "execution_count": 19,
   "metadata": {},
   "outputs": [
    {
     "data": {
      "text/plain": [
       "'01000000017772ec53b7c87d5bd7fa3f4c55c30f434e798128a0974fc2a42a670735f3262c000000008a47304402204d6b80a026e10027929eb3a6e4fa4d4a0e52e58fbeee828a0f53bb8fe0bffa1902207f3d50b36171ee2156e9f5da38afe31015a15e5ad693348ee850fabeaa27b108014104a6a83aafe3ba1621bfd83141c288ae952c62af3e9238ea3bda252167e7d31b9ef09f27bba906fce4c16798422166d983f0de95bcdf6d6235da9f477285080b71ffffffff0250c30000000000001976a914d37057c9abbd6ccb692b41c1633210cd3662c93388ac8cb90000000000001976a91453dc576f69a8cc263f688dd80b27d6dd84421c4788ac00000000'"
      ]
     },
     "execution_count": 19,
     "metadata": {},
     "output_type": "execute_result"
    }
   ],
   "source": [
    "real_tx.hex()"
   ]
  },
  {
   "cell_type": "markdown",
   "metadata": {},
   "source": [
    "## Транзанкция с помощью внешней библиотеки"
   ]
  },
  {
   "cell_type": "code",
   "execution_count": 119,
   "metadata": {},
   "outputs": [
    {
     "name": "stdout",
     "output_type": "stream",
     "text": [
      "Requirement already satisfied: bit in c:\\users\\lollypop\\anaconda3\\lib\\site-packages (0.8.0)\n",
      "Requirement already satisfied: coincurve>=4.3.0 in c:\\users\\lollypop\\anaconda3\\lib\\site-packages (from bit) (17.0.0)\n",
      "Requirement already satisfied: requests in c:\\users\\lollypop\\anaconda3\\lib\\site-packages (from bit) (2.27.1)\n",
      "Requirement already satisfied: cffi>=1.3.0 in c:\\users\\lollypop\\anaconda3\\lib\\site-packages (from coincurve>=4.3.0->bit) (1.15.0)\n",
      "Requirement already satisfied: asn1crypto in c:\\users\\lollypop\\anaconda3\\lib\\site-packages (from coincurve>=4.3.0->bit) (1.5.1)\n",
      "Requirement already satisfied: pycparser in c:\\users\\lollypop\\anaconda3\\lib\\site-packages (from cffi>=1.3.0->coincurve>=4.3.0->bit) (2.21)\n",
      "Requirement already satisfied: charset-normalizer~=2.0.0 in c:\\users\\lollypop\\anaconda3\\lib\\site-packages (from requests->bit) (2.0.4)\n",
      "Requirement already satisfied: certifi>=2017.4.17 in c:\\users\\lollypop\\anaconda3\\lib\\site-packages (from requests->bit) (2021.10.8)\n",
      "Requirement already satisfied: urllib3<1.27,>=1.21.1 in c:\\users\\lollypop\\anaconda3\\lib\\site-packages (from requests->bit) (1.26.9)\n",
      "Requirement already satisfied: idna<4,>=2.5 in c:\\users\\lollypop\\anaconda3\\lib\\site-packages (from requests->bit) (3.3)\n",
      "Note: you may need to restart the kernel to use updated packages.\n"
     ]
    }
   ],
   "source": [
    "pip install bit"
   ]
  },
  {
   "cell_type": "markdown",
   "metadata": {},
   "source": [
    "#### Если что выписать себе немного биткоинов для теста можно здесь https://testnet-faucet.mempool.co/"
   ]
  },
  {
   "cell_type": "code",
   "execution_count": 120,
   "metadata": {},
   "outputs": [
    {
     "name": "stdout",
     "output_type": "stream",
     "text": [
      "test\n",
      "cV6iiXiQLW9oqjGt85r9CVj1vgdB5eJ8jye7P7DT7sGyCYcDxxJq\n",
      "muGYcQ3ntZqdoDPKxTtsPzfV586sNA1oYM\n"
     ]
    }
   ],
   "source": [
    "from bit import PrivateKeyTestnet\n",
    "\n",
    "my_key = PrivateKeyTestnet(\"cV6iiXiQLW9oqjGt85r9CVj1vgdB5eJ8jye7P7DT7sGyCYcDxxJq\")\n",
    "\n",
    "print(my_key.version)\n",
    "\n",
    "print(my_key.to_wif())\n",
    "\n",
    "print(my_key.address)\n",
    "#cV6iiXiQLW9oqjGt85r9CVj1vgdB5eJ8jye7P7DT7sGyCYcDxxJq\n",
    "#muGYcQ3ntZqdoDPKxTtsPzfV586sNA1oYM"
   ]
  },
  {
   "cell_type": "code",
   "execution_count": 121,
   "metadata": {},
   "outputs": [
    {
     "name": "stdout",
     "output_type": "stream",
     "text": [
      "0\n"
     ]
    }
   ],
   "source": [
    "print(my_key.balance_as('usd'))"
   ]
  },
  {
   "cell_type": "code",
   "execution_count": 122,
   "metadata": {
    "scrolled": true
   },
   "outputs": [
    {
     "name": "stdout",
     "output_type": "stream",
     "text": [
      "599dc4bddecff1d5463f012063df0e1104eaa9350bd872a0bbd4eec283239c8b\n"
     ]
    }
   ],
   "source": [
    "tx_hash = my_key.send([('mgh4VjZx5MpkHRis9mDsF2ZcKLdXoP3oQ4', 1, 'usd')])\n",
    "\n",
    "print(tx_hash)"
   ]
  }
 ],
 "metadata": {
  "kernelspec": {
   "display_name": "Python 3 (ipykernel)",
   "language": "python",
   "name": "python3"
  },
  "language_info": {
   "codemirror_mode": {
    "name": "ipython",
    "version": 3
   },
   "file_extension": ".py",
   "mimetype": "text/x-python",
   "name": "python",
   "nbconvert_exporter": "python",
   "pygments_lexer": "ipython3",
   "version": "3.9.12"
  }
 },
 "nbformat": 4,
 "nbformat_minor": 4
}
